{
 "cells": [
  {
   "cell_type": "markdown",
   "metadata": {},
   "source": [
    "# Week 1\n",
    "* Part 1\n",
    "    * Course introduction\n",
    "    * Introduction to algorithms\n",
    "    * Writing algorithms\n",
    "    * Your first algorithm - installing Python (Anaconda)\n",
    "* Part 2\n",
    "    * Starting a Python notebook (Jupyter)\n",
    "    * Python basics (Print statement)\n",
    "    * Algorithms in Python"
   ]
  },
  {
   "cell_type": "markdown",
   "metadata": {},
   "source": [
    "# Week 2\n",
    "* Part 1\n",
    "    * Review of week 1\n",
    "    * File systems\n",
    "    * Reading and writing files\n",
    "* Part 2\n",
    "    * Lists, sets, and dictionaries\n",
    "    * Loops"
   ]
  },
  {
   "cell_type": "markdown",
   "metadata": {},
   "source": [
    "# Week 3\n",
    "* Part 1\n",
    "    * Review\n",
    "    * Useful Python concepts (Type, \\__repr\\__, Errors)\n",
    "    * Documentation (Good sources, bad sources)\n",
    "    * Useful notebook tricks (Markdown - cheat sheet)\n",
    "* Part 2\n",
    "    * Functions\n",
    "    * Lambda functions"
   ]
  },
  {
   "cell_type": "code",
   "execution_count": 2,
   "metadata": {},
   "outputs": [
    {
     "data": {
      "text/plain": [
       "function"
      ]
     },
     "execution_count": 2,
     "metadata": {},
     "output_type": "execute_result"
    }
   ],
   "source": [
    "x = lambda y: y+1\n",
    "type(x)"
   ]
  },
  {
   "cell_type": "code",
   "execution_count": 3,
   "metadata": {},
   "outputs": [
    {
     "name": "stdout",
     "output_type": "stream",
     "text": [
      "<function <lambda> at 0x000002314651E948>\n"
     ]
    }
   ],
   "source": [
    "print(x)"
   ]
  },
  {
   "cell_type": "code",
   "execution_count": 4,
   "metadata": {},
   "outputs": [],
   "source": [
    "def add_one(y):\n",
    "    return y+1"
   ]
  },
  {
   "cell_type": "code",
   "execution_count": 5,
   "metadata": {},
   "outputs": [
    {
     "name": "stdout",
     "output_type": "stream",
     "text": [
      "<function add_one at 0x000002314651E678>\n"
     ]
    }
   ],
   "source": [
    "print(add_one)"
   ]
  },
  {
   "cell_type": "code",
   "execution_count": null,
   "metadata": {},
   "outputs": [],
   "source": []
  }
 ],
 "metadata": {
  "kernelspec": {
   "display_name": "Python [conda env:root] *",
   "language": "python",
   "name": "conda-root-py"
  },
  "language_info": {
   "codemirror_mode": {
    "name": "ipython",
    "version": 3
   },
   "file_extension": ".py",
   "mimetype": "text/x-python",
   "name": "python",
   "nbconvert_exporter": "python",
   "pygments_lexer": "ipython3",
   "version": "3.7.6"
  }
 },
 "nbformat": 4,
 "nbformat_minor": 4
}
